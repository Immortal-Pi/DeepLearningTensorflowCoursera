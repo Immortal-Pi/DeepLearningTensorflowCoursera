{
 "cells": [
  {
   "cell_type": "code",
   "execution_count": 1,
   "id": "0da79414-b5f7-49c2-b1ae-393d93783be0",
   "metadata": {},
   "outputs": [],
   "source": [
    "import tensorflow as tf"
   ]
  },
  {
   "cell_type": "code",
   "execution_count": 16,
   "id": "4900fab5-1030-41bf-9126-59158700ebf4",
   "metadata": {},
   "outputs": [
    {
     "data": {
      "text/plain": [
       "<RangeDataset element_spec=TensorSpec(shape=(), dtype=tf.int64, name=None)>"
      ]
     },
     "execution_count": 16,
     "metadata": {},
     "output_type": "execute_result"
    }
   ],
   "source": [
    "dataset=tf.data.Dataset.range(10)\n",
    "dataset"
   ]
  },
  {
   "cell_type": "markdown",
   "id": "52765309-c036-4d36-b4c8-ff6084d6bbf6",
   "metadata": {},
   "source": [
    "# create a simple dataset"
   ]
  },
  {
   "cell_type": "code",
   "execution_count": 17,
   "id": "9dcc354a-33d5-4526-8460-d3a6f65f8e7d",
   "metadata": {},
   "outputs": [
    {
     "name": "stdout",
     "output_type": "stream",
     "text": [
      "0\n",
      "1\n",
      "2\n",
      "3\n",
      "4\n",
      "5\n",
      "6\n",
      "7\n",
      "8\n",
      "9\n"
     ]
    }
   ],
   "source": [
    "for val in dataset:\n",
    "    print(val.numpy())"
   ]
  },
  {
   "cell_type": "markdown",
   "id": "a8e66485-5458-4438-bd7f-7b7886e2e2b1",
   "metadata": {},
   "source": [
    "# windowing the data"
   ]
  },
  {
   "cell_type": "code",
   "execution_count": 18,
   "id": "c2512df0-8a07-4062-a1be-044ceca1c2fb",
   "metadata": {},
   "outputs": [
    {
     "name": "stdout",
     "output_type": "stream",
     "text": [
      "[0, 1, 2, 3, 4]\n",
      "[1, 2, 3, 4, 5]\n",
      "[2, 3, 4, 5, 6]\n",
      "[3, 4, 5, 6, 7]\n",
      "[4, 5, 6, 7, 8]\n",
      "[5, 6, 7, 8, 9]\n",
      "[6, 7, 8, 9]\n",
      "[7, 8, 9]\n",
      "[8, 9]\n",
      "[9]\n"
     ]
    }
   ],
   "source": [
    "# dataset=tf.data.Dataset.range(10)\n",
    "dataset=dataset.window(size=5,shift=1)\n",
    "for val in dataset:\n",
    "    print([i.numpy() for i in val])"
   ]
  },
  {
   "cell_type": "markdown",
   "id": "5e2ae5de-60d7-4d4a-a0d8-0f30ab3a42db",
   "metadata": {},
   "source": [
    "# flatten the window\n",
    "In training the model later, you will want to prepare the windows to be tensors instead of the Dataset structure. You can do that by feeding a mapping function to the flat_map() method. This function will be applied to each window and the results will be flattened into a single dataset. To illustrate, the code below will put all elements of a window into a single batch then flatten the result."
   ]
  },
  {
   "cell_type": "code",
   "execution_count": 42,
   "id": "306c01f8-1733-484f-9435-fcb17d6790a9",
   "metadata": {},
   "outputs": [
    {
     "name": "stdout",
     "output_type": "stream",
     "text": [
      "[0, 1, 2, 3, 4]\n",
      "[1, 2, 3, 4, 5]\n",
      "[2, 3, 4, 5, 6]\n",
      "[3, 4, 5, 6, 7]\n",
      "[4, 5, 6, 7, 8]\n",
      "[5, 6, 7, 8, 9]\n"
     ]
    }
   ],
   "source": [
    "dataset=tf.data.Dataset.range(10)\n",
    "dataset=dataset.window(5,shift=1,drop_remainder=True)\n",
    "dataset=dataset.flat_map(lambda window: window.batch(5))\n",
    "for data in dataset:\n",
    "    print([i.numpy() for i in data])"
   ]
  },
  {
   "cell_type": "markdown",
   "id": "9b5e3c32-af9a-4e92-8ee0-e767c26154af",
   "metadata": {},
   "source": [
    "# group into features and labels"
   ]
  },
  {
   "cell_type": "code",
   "execution_count": 39,
   "id": "0a9dcb9f-12f6-410f-a8ea-2934393696c2",
   "metadata": {},
   "outputs": [
    {
     "name": "stdout",
     "output_type": "stream",
     "text": [
      "[0 1 2 3]\n",
      "4\n",
      "[1 2 3 4]\n",
      "5\n",
      "[2 3 4 5]\n",
      "6\n",
      "[3 4 5 6]\n",
      "7\n",
      "[4 5 6 7]\n",
      "8\n",
      "[5 6 7 8]\n",
      "9\n"
     ]
    }
   ],
   "source": [
    "dataset=tf.data.Dataset.range(10)\n",
    "dataset=dataset.window(5,shift=1,drop_remainder=True)\n",
    "dataset=dataset.flat_map(lambda window:window.batch(5))\n",
    "dataset=dataset.map(lambda window: (window[:-1],window[-1]))\n",
    "\n",
    "for x,y in dataset:\n",
    "    print(x.numpy())\n",
    "    print(y.numpy())"
   ]
  },
  {
   "cell_type": "markdown",
   "id": "525f13d6-f882-427c-b16c-d000ea008ba2",
   "metadata": {},
   "source": [
    "# shuffle the data"
   ]
  },
  {
   "cell_type": "code",
   "execution_count": 44,
   "id": "26ccdbbc-8226-4217-9f31-771bea0233c8",
   "metadata": {},
   "outputs": [
    {
     "name": "stdout",
     "output_type": "stream",
     "text": [
      "[4 5 6 7]\n",
      "8\n",
      "[1 2 3 4]\n",
      "5\n",
      "[5 6 7 8]\n",
      "9\n",
      "[2 3 4 5]\n",
      "6\n",
      "[3 4 5 6]\n",
      "7\n",
      "[0 1 2 3]\n",
      "4\n"
     ]
    }
   ],
   "source": [
    "dataset=tf.data.Dataset.range(10)\n",
    "dataset=dataset.window(5,shift=1,drop_remainder=True)\n",
    "dataset=dataset.flat_map(lambda window:window.batch(5))\n",
    "dataset=dataset.map(lambda window: (window[:-1],window[-1]))\n",
    "\n",
    "dataset=dataset.shuffle(buffer_size=10)\n",
    "for x,y in dataset:\n",
    "    print(x.numpy())\n",
    "    print(y.numpy())"
   ]
  },
  {
   "cell_type": "markdown",
   "id": "756608a2-c77c-4203-919b-57d90393dc34",
   "metadata": {},
   "source": [
    "# create batches for training"
   ]
  },
  {
   "cell_type": "code",
   "execution_count": 48,
   "id": "77b4a392-81ce-47c2-9893-657745ed8a72",
   "metadata": {},
   "outputs": [
    {
     "name": "stdout",
     "output_type": "stream",
     "text": [
      "[[2 3 4 5]\n",
      " [0 1 2 3]]\n",
      "[6 4]\n",
      "[[1 2 3 4]\n",
      " [4 5 6 7]]\n",
      "[5 8]\n",
      "[[3 4 5 6]\n",
      " [5 6 7 8]]\n",
      "[7 9]\n"
     ]
    }
   ],
   "source": [
    "dataset=tf.data.Dataset.range(10)\n",
    "dataset=dataset.window(5,shift=1,drop_remainder=True)\n",
    "dataset=dataset.flat_map(lambda window:window.batch(5))\n",
    "dataset=dataset.map(lambda window: (window[:-1],window[-1]))\n",
    "\n",
    "dataset=dataset.shuffle(buffer_size=10)\n",
    "dataset=dataset.batch(2).prefetch(1)\n",
    "for x,y in dataset:\n",
    "    print(x.numpy())\n",
    "    print(y.numpy())"
   ]
  },
  {
   "cell_type": "code",
   "execution_count": null,
   "id": "7f302e2e-2db3-4801-9fde-90676c25a5f5",
   "metadata": {},
   "outputs": [],
   "source": []
  }
 ],
 "metadata": {
  "kernelspec": {
   "display_name": "tf",
   "language": "python",
   "name": "tf"
  },
  "language_info": {
   "codemirror_mode": {
    "name": "ipython",
    "version": 3
   },
   "file_extension": ".py",
   "mimetype": "text/x-python",
   "name": "python",
   "nbconvert_exporter": "python",
   "pygments_lexer": "ipython3",
   "version": "3.9.18"
  }
 },
 "nbformat": 4,
 "nbformat_minor": 5
}
