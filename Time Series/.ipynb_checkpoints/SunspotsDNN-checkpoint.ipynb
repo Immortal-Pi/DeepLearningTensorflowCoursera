{
 "cells": [
  {
   "cell_type": "code",
   "execution_count": 1,
   "id": "7b11340e-3bbd-4bd9-88b2-6f4a1129d8ab",
   "metadata": {},
   "outputs": [],
   "source": [
    "import tensorflow as tf\n",
    "import numpy as np\n",
    "import matplotlib.pyplot as plt\n",
    "import csv"
   ]
  },
  {
   "cell_type": "code",
   "execution_count": 2,
   "id": "e7d8c3c1-78f3-4e9c-a21f-220097fa7d40",
   "metadata": {},
   "outputs": [],
   "source": [
    "def plot_series(x,y,format='-',start=0,end=None,title=None,xlabel=None,ylabel=None,legend=None):\n",
    "    plt.figure(figsize=(10,6))\n",
    "    if type(y) is tuple:\n",
    "        for series_num in y:\n",
    "            plt.plot(x[start:end],series_num[start:end],format)\n",
    "    else:\n",
    "        plt.plot(x[start:end],y[start:end],format)\n",
    "\n",
    "    plt.xlabel(xlabel)\n",
    "    plt.ylabel(ylabel)\n",
    "    if legend:\n",
    "        plt.legend(legend)\n",
    "    plt.title(title)\n",
    "    plt.grid(True)\n",
    "    plt.show()"
   ]
  },
  {
   "cell_type": "code",
   "execution_count": null,
   "id": "bb7bb1fb-e3e6-416c-b023-0fa9c6267d36",
   "metadata": {},
   "outputs": [],
   "source": []
  }
 ],
 "metadata": {
  "kernelspec": {
   "display_name": "tf",
   "language": "python",
   "name": "tf"
  },
  "language_info": {
   "codemirror_mode": {
    "name": "ipython",
    "version": 3
   },
   "file_extension": ".py",
   "mimetype": "text/x-python",
   "name": "python",
   "nbconvert_exporter": "python",
   "pygments_lexer": "ipython3",
   "version": "3.9.18"
  }
 },
 "nbformat": 4,
 "nbformat_minor": 5
}
