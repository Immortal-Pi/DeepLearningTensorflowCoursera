{
 "cells": [
  {
   "cell_type": "code",
   "execution_count": 36,
   "id": "6d91ae2e-8745-4c10-b51d-a7f3b0666690",
   "metadata": {},
   "outputs": [],
   "source": [
    "import tensorflow as tf\n",
    "import tensorflow.keras.datasets.imdb as imdb\n",
    "import os\n",
    "import numpy as np"
   ]
  },
  {
   "cell_type": "code",
   "execution_count": null,
   "id": "c8f34031-099e-4057-82b9-d52480fe056d",
   "metadata": {},
   "outputs": [],
   "source": [
    "# datasets\n",
    "https://ai.stanford.edu/~amaas/data/sentiment/"
   ]
  },
  {
   "cell_type": "code",
   "execution_count": 2,
   "id": "d0f4c832-27d2-4da9-a26c-84843aaef199",
   "metadata": {},
   "outputs": [
    {
     "name": "stdout",
     "output_type": "stream",
     "text": [
      "2.10.1\n"
     ]
    }
   ],
   "source": [
    "print(tf.__version__)"
   ]
  },
  {
   "cell_type": "code",
   "execution_count": 59,
   "id": "22ac6fec-7635-4181-be3e-b1f10dd20ebb",
   "metadata": {},
   "outputs": [],
   "source": [
    "train_dir='datasets/aclImdb/train/'\n",
    "test_dir='datasets/aclImdb/test/'\n",
    "positive_train_dir='datasets/aclImdb/train/pos/'\n",
    "negative_train_dir='datasets/aclImdb/train/neg/'\n",
    "positive_test_dir='datasets/aclImdb/test/pos/'\n",
    "negative_test_dir='datasets/aclImdb/test/neg/'"
   ]
  },
  {
   "cell_type": "code",
   "execution_count": 60,
   "id": "a180e20c-5c7d-435b-9ef0-44e299dd4daa",
   "metadata": {},
   "outputs": [],
   "source": [
    "training_sentences=[]\n",
    "training_labels=[]\n",
    "testing_sentences=[]\n",
    "testing_labels=[]"
   ]
  },
  {
   "cell_type": "code",
   "execution_count": 61,
   "id": "0257289b-00d0-4bf0-a602-fdada7dd6d28",
   "metadata": {},
   "outputs": [
    {
     "data": {
      "text/plain": [
       "(12500, 12500)"
      ]
     },
     "execution_count": 61,
     "metadata": {},
     "output_type": "execute_result"
    }
   ],
   "source": [
    "for sentence in os.listdir(positive_train_dir):\n",
    "    with open(os.path.join(positive_train_dir,sentence), 'r', encoding='utf-8') as file:\n",
    "        sentence=file.read()\n",
    "        training_sentences.append(sentence)\n",
    "        training_labels.append(1)\n",
    "len(training_sentences),len(training_labels)"
   ]
  },
  {
   "cell_type": "code",
   "execution_count": 62,
   "id": "767f5ecd-e931-47cc-bfe6-15aa2d65d1d0",
   "metadata": {},
   "outputs": [
    {
     "data": {
      "text/plain": [
       "(25000, 25000)"
      ]
     },
     "execution_count": 62,
     "metadata": {},
     "output_type": "execute_result"
    }
   ],
   "source": [
    "for sentence in os.listdir(negative_train_dir):\n",
    "    with open(os.path.join(negative_train_dir,sentence), 'r', encoding='utf-8') as file:\n",
    "        sentence=file.read()\n",
    "        training_sentences.append(sentence)\n",
    "        training_labels.append(0)\n",
    "len(training_sentences),len(training_labels)"
   ]
  },
  {
   "cell_type": "code",
   "execution_count": 63,
   "id": "da592b0b-d895-40d2-9c9a-b2b8f2a19564",
   "metadata": {},
   "outputs": [
    {
     "data": {
      "text/plain": [
       "(12500, 12500)"
      ]
     },
     "execution_count": 63,
     "metadata": {},
     "output_type": "execute_result"
    }
   ],
   "source": [
    "for sentence in os.listdir(positive_test_dir):\n",
    "    with open(os.path.join(positive_test_dir,sentence), 'r', encoding='utf-8') as file:\n",
    "        sentence=file.read()\n",
    "        testing_sentences.append(sentence)\n",
    "        testing_labels.append(1)\n",
    "len(testing_sentences),len(testing_labels)"
   ]
  },
  {
   "cell_type": "code",
   "execution_count": 64,
   "id": "dafb1b84-0e84-41ed-9aa1-3df838c74f2c",
   "metadata": {},
   "outputs": [
    {
     "data": {
      "text/plain": [
       "(25000, 25000)"
      ]
     },
     "execution_count": 64,
     "metadata": {},
     "output_type": "execute_result"
    }
   ],
   "source": [
    "for sentence in os.listdir(negative_test_dir):\n",
    "    with open(os.path.join(negative_test_dir,sentence), 'r', encoding='utf-8') as file:\n",
    "        sentence=file.read()\n",
    "        testing_sentences.append(sentence)\n",
    "        testing_labels.append(1)\n",
    "len(testing_sentences),len(testing_labels)"
   ]
  },
  {
   "cell_type": "code",
   "execution_count": 44,
   "id": "10a1623d-227d-4264-9d74-3627386449ea",
   "metadata": {},
   "outputs": [],
   "source": [
    "# training_sentences=[]\n",
    "# training_labels=[]\n",
    "# testing_sentences=[]\n",
    "# testing_labels=[]"
   ]
  },
  {
   "cell_type": "code",
   "execution_count": 43,
   "id": "a2193316-b20f-4af8-b975-ae74ff8fc1ee",
   "metadata": {},
   "outputs": [],
   "source": [
    "# training_data=tf.data.Dataset.from_tensor_slices((training_sentences,training_labels))"
   ]
  },
  {
   "cell_type": "code",
   "execution_count": 46,
   "id": "f48902bc-f403-4042-9179-fe0068ab0911",
   "metadata": {},
   "outputs": [],
   "source": [
    "# for s,l in training_data:\n",
    "#     training_sentences.append(s.numpy().decode('utf8'))\n",
    "#     training_labels.append(l.numpy())"
   ]
  },
  {
   "cell_type": "code",
   "execution_count": 49,
   "id": "ca6a4f58-3449-4d01-ab9f-c2b045f81d5c",
   "metadata": {},
   "outputs": [
    {
     "data": {
      "text/plain": [
       "25000"
      ]
     },
     "execution_count": 49,
     "metadata": {},
     "output_type": "execute_result"
    }
   ],
   "source": [
    "# len(training_labels)"
   ]
  },
  {
   "cell_type": "code",
   "execution_count": 67,
   "id": "0cc9e57c-3687-4818-8ecc-230c938fbdf6",
   "metadata": {},
   "outputs": [],
   "source": [
    "training_labels_final=np.array(training_labels)\n",
    "testing_labels_final=np.array(testing_labels)"
   ]
  },
  {
   "cell_type": "code",
   "execution_count": 100,
   "id": "35c780f3-fce6-48ad-af15-5707cce3c7f4",
   "metadata": {},
   "outputs": [],
   "source": [
    "# generate Padded Sequence\n",
    "vocab_size=1000\n",
    "max_length=120\n",
    "embedding_dim=16\n",
    "trunc_type='post'\n",
    "oov_tok='<OOV>'"
   ]
  },
  {
   "cell_type": "code",
   "execution_count": 101,
   "id": "32ea22d8-6aae-4d18-935a-376b55a4c3fd",
   "metadata": {},
   "outputs": [],
   "source": [
    "from tensorflow.keras.preprocessing.text import Tokenizer\n",
    "from tensorflow.keras.preprocessing.sequence import pad_sequences"
   ]
  },
  {
   "cell_type": "code",
   "execution_count": 102,
   "id": "8c58b59f-605b-43e6-a5d1-d20db65d3ab4",
   "metadata": {},
   "outputs": [],
   "source": [
    "tokenizer=Tokenizer(num_words=vocab_size,oov_token=oov_tok)\n",
    "\n",
    "tokenizer.fit_on_texts(training_sentences)\n",
    "word_index=tokenizer.word_index\n",
    "\n",
    "sequences=tokenizer.texts_to_sequences(training_sentences)\n",
    "padded = pad_sequences(sequences,maxlen=max_length, truncating=trunc_type)\n",
    "\n",
    "testing_sequences=tokenizer.texts_to_sequences(testing_sentences)\n",
    "testing_padded=pad_sequences(testing_sequences,maxlen=max_length,truncating=trunc_type)"
   ]
  },
  {
   "cell_type": "markdown",
   "id": "7dc73ad1-ba51-4b5b-abdc-ee355bcba936",
   "metadata": {},
   "source": [
    "# Building and compile the model"
   ]
  },
  {
   "cell_type": "code",
   "execution_count": 103,
   "id": "c7a39531-e636-47d2-9d90-2e15b1126abc",
   "metadata": {},
   "outputs": [
    {
     "name": "stdout",
     "output_type": "stream",
     "text": [
      "Model: \"sequential_5\"\n",
      "_________________________________________________________________\n",
      " Layer (type)                Output Shape              Param #   \n",
      "=================================================================\n",
      " embedding_5 (Embedding)     (None, 120, 16)           16000     \n",
      "                                                                 \n",
      " flatten_5 (Flatten)         (None, 1920)              0         \n",
      "                                                                 \n",
      " dense_10 (Dense)            (None, 20)                38420     \n",
      "                                                                 \n",
      " dense_11 (Dense)            (None, 1)                 21        \n",
      "                                                                 \n",
      "=================================================================\n",
      "Total params: 54,441\n",
      "Trainable params: 54,441\n",
      "Non-trainable params: 0\n",
      "_________________________________________________________________\n"
     ]
    }
   ],
   "source": [
    "model=tf.keras.Sequential([\n",
    "    tf.keras.layers.Embedding(vocab_size, embedding_dim,input_length=max_length),\n",
    "    tf.keras.layers.Flatten(),\n",
    "    tf.keras.layers.Dense(20, activation='relu'),\n",
    "    tf.keras.layers.Dense(1, activation='sigmoid'),\n",
    "])\n",
    "\n",
    "model.compile(loss='binary_crossentropy',optimizer='adam',metrics=['accuracy'])\n",
    "\n",
    "model.summary()"
   ]
  },
  {
   "cell_type": "markdown",
   "id": "5c5476d3-f6eb-4029-a8fc-e6cf0e986fdf",
   "metadata": {},
   "source": [
    "# train the model"
   ]
  },
  {
   "cell_type": "code",
   "execution_count": 104,
   "id": "4b93e682-9fb6-4e54-9e79-d5524ea8ce34",
   "metadata": {},
   "outputs": [
    {
     "name": "stdout",
     "output_type": "stream",
     "text": [
      "Epoch 1/10\n",
      "782/782 [==============================] - 5s 5ms/step - loss: 0.5168 - accuracy: 0.7282 - val_loss: 1.1106 - val_accuracy: 0.5372\n",
      "Epoch 2/10\n",
      "782/782 [==============================] - 4s 5ms/step - loss: 0.3770 - accuracy: 0.8329 - val_loss: 1.4247 - val_accuracy: 0.4470\n",
      "Epoch 3/10\n",
      "782/782 [==============================] - 4s 5ms/step - loss: 0.3096 - accuracy: 0.8704 - val_loss: 1.2410 - val_accuracy: 0.5439\n",
      "Epoch 4/10\n",
      "782/782 [==============================] - 4s 5ms/step - loss: 0.2394 - accuracy: 0.9064 - val_loss: 1.5959 - val_accuracy: 0.5190\n",
      "Epoch 5/10\n",
      "782/782 [==============================] - 4s 5ms/step - loss: 0.1752 - accuracy: 0.9369 - val_loss: 2.0657 - val_accuracy: 0.4998\n",
      "Epoch 6/10\n",
      "782/782 [==============================] - 4s 5ms/step - loss: 0.1256 - accuracy: 0.9568 - val_loss: 2.4733 - val_accuracy: 0.4982\n",
      "Epoch 7/10\n",
      "782/782 [==============================] - 4s 5ms/step - loss: 0.0860 - accuracy: 0.9709 - val_loss: 2.8980 - val_accuracy: 0.4995\n",
      "Epoch 8/10\n",
      "782/782 [==============================] - 4s 5ms/step - loss: 0.0564 - accuracy: 0.9825 - val_loss: 3.3712 - val_accuracy: 0.5072\n",
      "Epoch 9/10\n",
      "782/782 [==============================] - 4s 5ms/step - loss: 0.0382 - accuracy: 0.9883 - val_loss: 4.0887 - val_accuracy: 0.5012\n",
      "Epoch 10/10\n",
      "782/782 [==============================] - 4s 5ms/step - loss: 0.0291 - accuracy: 0.9908 - val_loss: 4.5064 - val_accuracy: 0.5196\n"
     ]
    }
   ],
   "source": [
    "num_epochs=10\n",
    "\n",
    "history=model.fit(padded, training_labels_final, epochs=num_epochs, validation_data=(testing_padded,testing_labels_final))"
   ]
  },
  {
   "cell_type": "markdown",
   "id": "0c8cfd50-871d-4f3d-9b4b-3f510b9e4d82",
   "metadata": {},
   "source": [
    "# visualize word embeddings "
   ]
  },
  {
   "cell_type": "code",
   "execution_count": 106,
   "id": "e321f79d-679f-4c77-b5be-1b18f1a904bc",
   "metadata": {},
   "outputs": [
    {
     "data": {
      "text/plain": [
       "(1000, 16)"
      ]
     },
     "execution_count": 106,
     "metadata": {},
     "output_type": "execute_result"
    }
   ],
   "source": [
    "embedding_layer=model.layers[0]\n",
    "embedding_Weights=embedding_layer.get_weights()[0]\n",
    "embedding_Weights.shape\n",
    "reverse_word_index=tokenizer.index_word\n",
    "embedding_Weights.shape"
   ]
  },
  {
   "cell_type": "code",
   "execution_count": 85,
   "id": "b0ebc5b3-81c1-4ed8-9b18-8127b0d212e7",
   "metadata": {},
   "outputs": [],
   "source": [
    "import io\n",
    "\n",
    "out_v=io.open('datasets/vecs.tsv','w',encoding='utf-8')\n",
    "out_m=io.open('datasets/meta.tsv','w',encoding='utf-8')\n",
    "\n",
    "for word_num in range(1, vocab_size):\n",
    "    word_name= reverse_word_index[word_num]\n",
    "    word_embedding=embedding_Weights[word_num]\n",
    "    out_m.write(word_name+'\\n')\n",
    "    out_v.write('\\t'.join([str(x) for x in word_embedding])+'\\n')\n",
    "out_v.close()\n",
    "out_m.close()"
   ]
  },
  {
   "cell_type": "code",
   "execution_count": 99,
   "id": "47478bc2-6949-4fac-b892-16aadf904f80",
   "metadata": {},
   "outputs": [
    {
     "data": {
      "text/plain": [
       "<Figure size 640x480 with 0 Axes>"
      ]
     },
     "execution_count": 99,
     "metadata": {},
     "output_type": "execute_result"
    },
    {
     "data": {
      "image/png": "[encoded data removed]",
      "text/plain": [
       "<Figure size 640x480 with 1 Axes>"
      ]
     },
     "metadata": {},
     "output_type": "display_data"
    },
    {
     "data": {
      "image/png": "[encoded data removed]",
      "text/plain": [
       "<Figure size 640x480 with 1 Axes>"
      ]
     },
     "metadata": {},
     "output_type": "display_data"
    },
    {
     "data": {
      "text/plain": [
       "<Figure size 640x480 with 0 Axes>"
      ]
     },
     "metadata": {},
     "output_type": "display_data"
    }
   ],
   "source": [
    "import matplotlib.pyplot as plt\n",
    "acc=history.history['accuracy']\n",
    "val_acc=history.history['val_accuracy']\n",
    "loss=history.history['loss']\n",
    "val_loss=history.history['val_loss']\n",
    "epochs=range(len(acc))\n",
    "plt.plot(epochs, acc, 'r' , label='Training Accuracy')\n",
    "plt.plot(epochs, val_acc, 'b' , label='Validation Accuracy')\n",
    "plt.legend()\n",
    "plt.figure()\n",
    "plt.plot(epochs, loss, 'r' , label='Training loss')\n",
    "plt.plot(epochs, val_loss, 'b' , label='Validation loss')\n",
    "plt.legend()\n",
    "plt.figure()"
   ]
  },
  {
   "cell_type": "code",
   "execution_count": null,
   "id": "dd048c74-8d40-4b47-a05f-6b5e70d3ec10",
   "metadata": {},
   "outputs": [],
   "source": []
  }
 ],
 "metadata": {
  "kernelspec": {
   "display_name": "tf",
   "language": "python",
   "name": "tf"
  },
  "language_info": {
   "codemirror_mode": {
    "name": "ipython",
    "version": 3
   },
   "file_extension": ".py",
   "mimetype": "text/x-python",
   "name": "python",
   "nbconvert_exporter": "python",
   "pygments_lexer": "ipython3",
   "version": "3.9.18"
  }
 },
 "nbformat": 4,
 "nbformat_minor": 5
}
