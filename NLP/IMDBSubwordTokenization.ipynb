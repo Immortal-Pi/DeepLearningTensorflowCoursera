{
 "cells": [
  {
   "cell_type": "markdown",
   "id": "8b93382d-5b5c-49af-8c24-f5bcdde683b3",
   "metadata": {},
   "source": [
    "# Subword Tokenization with the IMDB Reviews Dataset"
   ]
  },
  {
   "cell_type": "code",
   "execution_count": 5,
   "id": "6d490a55-220b-4492-8c20-c556be75b948",
   "metadata": {},
   "outputs": [],
   "source": [
    "from keras.datasets import imdb\n",
    "import numpy as np"
   ]
  },
  {
   "cell_type": "code",
   "execution_count": 6,
   "id": "91160b08-224a-4135-85be-9bbace4e473f",
   "metadata": {},
   "outputs": [],
   "source": [
    "(trainx,trainy),(testx,testy)=imdb.load_data()\n",
    "trainx=np.asarray(trainx)"
   ]
  },
  {
   "cell_type": "code",
   "execution_count": 14,
   "id": "38280950-13e8-4319-95f5-1036694b19da",
   "metadata": {},
   "outputs": [
    {
     "data": {
      "text/plain": [
       "218"
      ]
     },
     "execution_count": 14,
     "metadata": {},
     "output_type": "execute_result"
    }
   ],
   "source": [
    "len(trainx[0])"
   ]
  },
  {
   "cell_type": "code",
   "execution_count": null,
   "id": "2cc6660d-bd06-46bd-8f50-07f7af922195",
   "metadata": {},
   "outputs": [],
   "source": []
  }
 ],
 "metadata": {
  "kernelspec": {
   "display_name": "tf",
   "language": "python",
   "name": "tf"
  },
  "language_info": {
   "codemirror_mode": {
    "name": "ipython",
    "version": 3
   },
   "file_extension": ".py",
   "mimetype": "text/x-python",
   "name": "python",
   "nbconvert_exporter": "python",
   "pygments_lexer": "ipython3",
   "version": "3.9.18"
  }
 },
 "nbformat": 4,
 "nbformat_minor": 5
}
