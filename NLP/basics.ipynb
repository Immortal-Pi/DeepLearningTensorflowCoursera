{
 "cells": [
  {
   "cell_type": "markdown",
   "id": "e9eaade1-7aa2-4d9f-a61f-49d841b4dc25",
   "metadata": {},
   "source": [
    "#  tokenizer:- \n",
    "- generating the dictionary of word encodings and creating vectors out of the sentences."
   ]
  },
  {
   "cell_type": "code",
   "execution_count": 24,
   "id": "ffd44682-2ba3-424d-ade1-93d977f8a9b8",
   "metadata": {},
   "outputs": [],
   "source": [
    "import tensorflow as tf\n",
    "from tensorflow import keras\n",
    "from tensorflow.keras.preprocessing.text import Tokenizer\n",
    "from tensorflow.keras.preprocessing.sequence import pad_sequences"
   ]
  },
  {
   "cell_type": "code",
   "execution_count": 9,
   "id": "76c0f9e7-4131-4124-be42-be2df10b2979",
   "metadata": {},
   "outputs": [],
   "source": [
    "sentences =[\n",
    "    'I love my dog',\n",
    "    'I love my cat',\n",
    "    'You love my dog!'\n",
    "]"
   ]
  },
  {
   "cell_type": "code",
   "execution_count": 11,
   "id": "06bce6b7-d2fa-4b64-b89a-1c178c82db73",
   "metadata": {},
   "outputs": [
    {
     "name": "stdout",
     "output_type": "stream",
     "text": [
      "{'love': 1, 'my': 2, 'i': 3, 'dog': 4, 'cat': 5, 'you': 6}\n"
     ]
    }
   ],
   "source": [
    "# 100 tokens - tokenizer will do is take the top 100 words by volume and just encode those\n",
    "tokenizer=Tokenizer(num_words=100)\n",
    "tokenizer.fit_on_texts(sentences)\n",
    "word_index=tokenizer.word_index\n",
    "print(word_index)"
   ]
  },
  {
   "cell_type": "markdown",
   "id": "67e1e4b5-0329-4ba3-8de2-73019ae84a8e",
   "metadata": {},
   "source": [
    "# text to Sequence\n",
    "-  need to prepare text data with uniform size before feeding it to your model\n"
   ]
  },
  {
   "cell_type": "code",
   "execution_count": 28,
   "id": "b7577b43-3744-4103-bb4d-91142c12346e",
   "metadata": {},
   "outputs": [],
   "source": [
    "sentences =[\n",
    "    'I love my dog',\n",
    "    'I love my cat',\n",
    "    'You love my dog!',\n",
    "    'Do you think my dog is amazing?',\n",
    "    \n",
    "]"
   ]
  },
  {
   "cell_type": "code",
   "execution_count": 29,
   "id": "7f032569-3fd7-4ca0-a135-e5541225b9b5",
   "metadata": {},
   "outputs": [
    {
     "name": "stdout",
     "output_type": "stream",
     "text": [
      "{'<OOV>': 1, 'my': 2, 'love': 3, 'dog': 4, 'i': 5, 'you': 6, 'cat': 7, 'do': 8, 'think': 9, 'is': 10, 'amazing': 11}\n",
      "[[5, 3, 2, 4], [5, 3, 2, 7], [6, 3, 2, 4], [8, 6, 9, 2, 4, 10, 11]]\n"
     ]
    }
   ],
   "source": [
    "tokenizer=Tokenizer(num_words=100,oov_token='<OOV>')\n",
    "tokenizer.fit_on_texts(sentences)\n",
    "word_index=tokenizer.word_index\n",
    "sequences=tokenizer.texts_to_sequences(sentences)\n",
    "\n",
    "print(word_index)\n",
    "print(sequences)"
   ]
  },
  {
   "cell_type": "code",
   "execution_count": 36,
   "id": "c875dd3e-c076-463e-8d05-44de6a505d61",
   "metadata": {},
   "outputs": [
    {
     "name": "stdout",
     "output_type": "stream",
     "text": [
      "[[5, 1, 3, 2, 4], [2, 4, 1, 2, 1]]\n",
      "{'<OOV>': 1, 'my': 2, 'love': 3, 'dog': 4, 'i': 5, 'you': 6, 'cat': 7, 'do': 8, 'think': 9, 'is': 10, 'amazing': 11}\n"
     ]
    }
   ],
   "source": [
    "test_data=['i really love my dog',\n",
    "          'my dog loves my manatee'\n",
    "          ]\n",
    "word_index=tokenizer.word_index\n",
    "test_seq=tokenizer.texts_to_sequences(test_data)\n",
    "print(test_seq)\n",
    "print(word_index)"
   ]
  },
  {
   "cell_type": "markdown",
   "id": "67e6d537-a9a1-48bc-b0fc-973fd3b98697",
   "metadata": {},
   "source": [
    "# padding "
   ]
  },
  {
   "cell_type": "markdown",
   "id": "9a969dd4-9af0-472b-ab62-254f7c62119a",
   "metadata": {},
   "source": [
    "- really and loves is not encoded therefore the above\n",
    "- you will usually need to pad the sequences into a uniform length because that is what your model expects"
   ]
  },
  {
   "cell_type": "code",
   "execution_count": 37,
   "id": "e9c109b7-65c4-4933-962d-c6434a165c90",
   "metadata": {},
   "outputs": [
    {
     "data": {
      "text/plain": [
       "array([[ 0,  0,  0,  5,  3,  2,  4],\n",
       "       [ 0,  0,  0,  5,  3,  2,  7],\n",
       "       [ 0,  0,  0,  6,  3,  2,  4],\n",
       "       [ 8,  6,  9,  2,  4, 10, 11]])"
      ]
     },
     "execution_count": 37,
     "metadata": {},
     "output_type": "execute_result"
    }
   ],
   "source": [
    "paddng=pad_sequences(sequences)\n",
    "paddng"
   ]
  },
  {
   "cell_type": "code",
   "execution_count": 32,
   "id": "8fb18a30-8322-49db-9300-e15fbc98a5e3",
   "metadata": {},
   "outputs": [
    {
     "data": {
      "text/plain": [
       "array([[ 5,  3,  2,  4,  0,  0,  0],\n",
       "       [ 5,  3,  2,  7,  0,  0,  0],\n",
       "       [ 6,  3,  2,  4,  0,  0,  0],\n",
       "       [ 8,  6,  9,  2,  4, 10, 11]])"
      ]
     },
     "execution_count": 32,
     "metadata": {},
     "output_type": "execute_result"
    }
   ],
   "source": [
    "padding=pad_sequences(sequences,padding='post')\n",
    "padding"
   ]
  },
  {
   "cell_type": "code",
   "execution_count": 33,
   "id": "d78caf69-dc2b-44c4-82a0-93975936207c",
   "metadata": {},
   "outputs": [
    {
     "data": {
      "text/plain": [
       "array([[ 5,  3,  2,  4,  0],\n",
       "       [ 5,  3,  2,  7,  0],\n",
       "       [ 6,  3,  2,  4,  0],\n",
       "       [ 9,  2,  4, 10, 11]])"
      ]
     },
     "execution_count": 33,
     "metadata": {},
     "output_type": "execute_result"
    }
   ],
   "source": [
    "padding=pad_sequences(sequences,padding='post',maxlen=5)\n",
    "padding"
   ]
  },
  {
   "cell_type": "code",
   "execution_count": 35,
   "id": "d3b9e20b-6584-4cc3-a376-cf209e0ba36c",
   "metadata": {},
   "outputs": [
    {
     "data": {
      "text/plain": [
       "array([[5, 3, 2, 4, 0],\n",
       "       [5, 3, 2, 7, 0],\n",
       "       [6, 3, 2, 4, 0],\n",
       "       [8, 6, 9, 2, 4]])"
      ]
     },
     "execution_count": 35,
     "metadata": {},
     "output_type": "execute_result"
    }
   ],
   "source": [
    "padding=pad_sequences(sequences,padding='post',truncating='post', maxlen=5)\n",
    "padding"
   ]
  },
  {
   "cell_type": "code",
   "execution_count": null,
   "id": "d96449ea-1a25-46b3-b31c-18bd7ed4c4fb",
   "metadata": {},
   "outputs": [],
   "source": [
    "print('\\n word index=',word_index)"
   ]
  }
 ],
 "metadata": {
  "kernelspec": {
   "display_name": "tf",
   "language": "python",
   "name": "tf"
  },
  "language_info": {
   "codemirror_mode": {
    "name": "ipython",
    "version": 3
   },
   "file_extension": ".py",
   "mimetype": "text/x-python",
   "name": "python",
   "nbconvert_exporter": "python",
   "pygments_lexer": "ipython3",
   "version": "3.9.18"
  }
 },
 "nbformat": 4,
 "nbformat_minor": 5
}
