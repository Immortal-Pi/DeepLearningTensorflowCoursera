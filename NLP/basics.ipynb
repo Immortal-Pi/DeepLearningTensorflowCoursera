{
 "cells": [
  {
   "cell_type": "markdown",
   "id": "e9eaade1-7aa2-4d9f-a61f-49d841b4dc25",
   "metadata": {},
   "source": [
    "#  tokenizer:- \n",
    "- generating the dictionary of word encodings and creating vectors out of the sentences."
   ]
  },
  {
   "cell_type": "code",
   "execution_count": 1,
   "id": "ffd44682-2ba3-424d-ade1-93d977f8a9b8",
   "metadata": {},
   "outputs": [],
   "source": [
    "import tensorflow as tf\n",
    "from tensorflow import keras\n",
    "from tensorflow.keras.preprocessing.text import Tokenizer\n"
   ]
  },
  {
   "cell_type": "code",
   "execution_count": 6,
   "id": "76c0f9e7-4131-4124-be42-be2df10b2979",
   "metadata": {},
   "outputs": [],
   "source": [
    "sentences =[\n",
    "    'I love my dog',\n",
    "    'I love my cat',\n",
    "    'You love my dog!'\n",
    "]"
   ]
  },
  {
   "cell_type": "code",
   "execution_count": 7,
   "id": "06bce6b7-d2fa-4b64-b89a-1c178c82db73",
   "metadata": {},
   "outputs": [
    {
     "name": "stdout",
     "output_type": "stream",
     "text": [
      "{'love': 1, 'my': 2, 'i': 3, 'dog': 4, 'cat': 5, 'you': 6}\n"
     ]
    }
   ],
   "source": [
    "# 100 tokens - tokenizer will do is take the top 100 words by volume and just encode those\n",
    "tokenizer=Tokenizer(num_words=100)\n",
    "tokenizer.fit_on_texts(sentences)\n",
    "word_index=tokenizer.word_index\n",
    "print(word_index)"
   ]
  },
  {
   "cell_type": "code",
   "execution_count": null,
   "id": "a2129464-7ecd-4176-a2c7-da5640c9d113",
   "metadata": {},
   "outputs": [],
   "source": []
  }
 ],
 "metadata": {
  "kernelspec": {
   "display_name": "tf",
   "language": "python",
   "name": "tf"
  },
  "language_info": {
   "codemirror_mode": {
    "name": "ipython",
    "version": 3
   },
   "file_extension": ".py",
   "mimetype": "text/x-python",
   "name": "python",
   "nbconvert_exporter": "python",
   "pygments_lexer": "ipython3",
   "version": "3.9.18"
  }
 },
 "nbformat": 4,
 "nbformat_minor": 5
}
