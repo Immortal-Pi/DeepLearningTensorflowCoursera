{
 "cells": [
  {
   "cell_type": "markdown",
   "id": "f64b5b25-43fe-488d-bcfb-77d1ff65611a",
   "metadata": {},
   "source": [
    "# download the dataset from \n",
    "https://storage.googleapis.com/tensorflow-1-public/course2/week3/horse-or-human.zip"
   ]
  },
  {
   "cell_type": "markdown",
   "id": "900daaec-5876-4a0f-a19f-84a3bc149374",
   "metadata": {},
   "source": [
    "# Ungraded Lab: Training with ImageDataGenerator\n",
    "In this lab, you will build a train a model on the Horses or Humans dataset. This contains over a thousand images of horses and humans with varying poses and filesizes. You will use the ImageDataGenerator class to prepare this dataset so it can be fed to a convolutional neural network.\n",
    "\n",
    "IMPORTANT NOTE: This notebook is designed to run as a Colab. Running it on your local machine might result in some of the code blocks throwing errors.\n",
    "\n",
    "Run the code below to download the compressed dataset horse-or-human.zip."
   ]
  },
  {
   "cell_type": "code",
   "execution_count": 2,
   "id": "916906ba-9660-42b0-80f1-5d3f4df145bf",
   "metadata": {},
   "outputs": [],
   "source": [
    "import zipfile"
   ]
  },
  {
   "cell_type": "code",
   "execution_count": 5,
   "id": "7ebdc59b-6e21-4431-a29a-dd398b4f32ad",
   "metadata": {},
   "outputs": [],
   "source": [
    "#unzip the datasets\n",
    "local_zip='datasets/horse-or-human.zip'\n",
    "zip_ref = zipfile.ZipFile(local_zip,'r')\n",
    "zip_ref.extractall('datasets/horse-or-human')\n",
    "zip_ref.close()"
   ]
  },
  {
   "cell_type": "code",
   "execution_count": 6,
   "id": "65ff625a-7f41-4f2d-9f19-8dea4642ac41",
   "metadata": {},
   "outputs": [],
   "source": [
    "import os\n",
    "train_horse_dir=os.path.join('datasets/horse-or-human/horses/')\n",
    "train_human_dir=os.path.join('datasets/horse-or-human/humans/')"
   ]
  },
  {
   "cell_type": "code",
   "execution_count": 10,
   "id": "d5b10dc7-5081-417b-8743-1c4852db332f",
   "metadata": {},
   "outputs": [
    {
     "name": "stdout",
     "output_type": "stream",
     "text": [
      "['horse01-0.png', 'horse01-1.png', 'horse01-2.png', 'horse01-3.png', 'horse01-4.png', 'horse01-5.png', 'horse01-6.png', 'horse01-7.png', 'horse01-8.png', 'horse01-9.png']\n",
      "['human01-00.png', 'human01-01.png', 'human01-02.png', 'human01-03.png', 'human01-04.png', 'human01-05.png', 'human01-06.png', 'human01-07.png', 'human01-08.png', 'human01-09.png']\n"
     ]
    }
   ],
   "source": [
    "train_horse_names=os.listdir(train_horse_dir)\n",
    "print(train_horse_names[:10])\n",
    "train_human_names=os.listdir(train_human_dir)\n",
    "print(train_human_names[:10])"
   ]
  },
  {
   "cell_type": "code",
   "execution_count": null,
   "id": "7cafab1d-b49b-48b9-bcf8-26162661a3fa",
   "metadata": {},
   "outputs": [],
   "source": []
  }
 ],
 "metadata": {
  "kernelspec": {
   "display_name": "tf",
   "language": "python",
   "name": "tf"
  },
  "language_info": {
   "codemirror_mode": {
    "name": "ipython",
    "version": 3
   },
   "file_extension": ".py",
   "mimetype": "text/x-python",
   "name": "python",
   "nbconvert_exporter": "python",
   "pygments_lexer": "ipython3",
   "version": "3.9.18"
  }
 },
 "nbformat": 4,
 "nbformat_minor": 5
}
