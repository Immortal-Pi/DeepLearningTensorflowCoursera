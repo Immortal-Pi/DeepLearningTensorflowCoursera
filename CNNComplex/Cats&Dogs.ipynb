{
 "cells": [
  {
   "cell_type": "markdown",
   "id": "10947216-569c-4f8b-9e80-3c7b44903a12",
   "metadata": {},
   "source": [
    "# Ungraded Lab: Using more sophisticated images with Convolutional Neural Networks\n",
    "\n",
    "In Course 1 of this specialization, you saw how to use a CNN to make your recognition of computer generated images of horses and humans more efficient. In this lesson, you'll take that to the next level: building a model to classify real images of cats and dogs. Like the horses and humans dataset, real-world images also come in different shapes, aspect ratios, etc. and you will need to take this into account when preparing your data.\n",
    "\n",
    "In this lab, you will first review how to build CNNs, prepare your data with ImageDataGenerator and examine your results. You'll follow these steps:\n",
    "\n",
    "Explore the example data of Dogs vs. Cats\n",
    "Build and train a neural network to classify between the two pets\n",
    "Evaluate the training and validation accuracy\n",
    "You will build upon your results here in the next labs so you can improve it, particularly in avoiding overfitting. Let's begin!\n",
    "\n",
    "IMPORTANT NOTE: This notebook is designed to run as a Colab. Running it on your local machine might result in some of the code blocks throwing errors."
   ]
  },
  {
   "cell_type": "code",
   "execution_count": null,
   "id": "f02a7dd2-3685-47ff-876a-6c82fae96d11",
   "metadata": {},
   "outputs": [],
   "source": []
  }
 ],
 "metadata": {
  "kernelspec": {
   "display_name": "tf",
   "language": "python",
   "name": "tf"
  },
  "language_info": {
   "codemirror_mode": {
    "name": "ipython",
    "version": 3
   },
   "file_extension": ".py",
   "mimetype": "text/x-python",
   "name": "python",
   "nbconvert_exporter": "python",
   "pygments_lexer": "ipython3",
   "version": "3.9.18"
  }
 },
 "nbformat": 4,
 "nbformat_minor": 5
}
