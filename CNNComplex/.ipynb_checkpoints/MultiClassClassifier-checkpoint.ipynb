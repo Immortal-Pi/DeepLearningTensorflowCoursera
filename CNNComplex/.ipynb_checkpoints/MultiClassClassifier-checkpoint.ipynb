{
 "cells": [
  {
   "cell_type": "markdown",
   "id": "e0f40364-4276-4600-98e4-5056a15d997e",
   "metadata": {},
   "source": [
    "# Download and prepare the dataset"
   ]
  },
  {
   "cell_type": "code",
   "execution_count": null,
   "id": "5ffdf13f-73bc-4122-9fc5-3029073c957f",
   "metadata": {},
   "outputs": [],
   "source": [
    "# # Download the train set\n",
    "# !wget https://storage.googleapis.com/tensorflow-1-public/course2/week4/rps.zip\n",
    "    \n",
    "# # Download the test set\n",
    "# !wget https://storage.googleapis.com/tensorflow-1-public/course2/week4/rps-test-set.zip"
   ]
  }
 ],
 "metadata": {
  "kernelspec": {
   "display_name": "tf",
   "language": "python",
   "name": "tf"
  },
  "language_info": {
   "codemirror_mode": {
    "name": "ipython",
    "version": 3
   },
   "file_extension": ".py",
   "mimetype": "text/x-python",
   "name": "python",
   "nbconvert_exporter": "python",
   "pygments_lexer": "ipython3",
   "version": "3.9.18"
  }
 },
 "nbformat": 4,
 "nbformat_minor": 5
}
