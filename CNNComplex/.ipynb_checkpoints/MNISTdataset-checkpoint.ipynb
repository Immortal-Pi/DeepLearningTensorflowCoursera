{
 "cells": [
  {
   "cell_type": "code",
   "execution_count": 1,
   "id": "8c792752-75a6-4b94-a449-0ea1ee4ccb9d",
   "metadata": {},
   "outputs": [],
   "source": [
    "import csv\n",
    "import string\n",
    "import numpy as np\n",
    "import tensorflow as tf\n",
    "import matplotlib.pyplot as plt\n",
    "from tensorflow.keras.preprocessing.image import ImageDataGenerator, array_to_img"
   ]
  },
  {
   "cell_type": "code",
   "execution_count": 42,
   "id": "41bea002-a7c5-4afb-875c-ee3ee50765c3",
   "metadata": {},
   "outputs": [
    {
     "name": "stdout",
     "output_type": "stream",
     "text": [
      "3\n",
      "6\n",
      "[]\n"
     ]
    }
   ],
   "source": [
    "with open('datasets/sign_mnist_train.csv') as file:\n",
    "    csv_reader=csv.reader(file, delimiter=';')\n",
    "    row_count=0\n",
    "    labels=[]\n",
    "    images=[]\n",
    "    next(csv_reader,None)\n",
    "    for row in csv_reader:\n",
    "        label=row[0][0]\n",
    "        image=row[0][1:]\n",
    "        print(row[0][0])\n",
    "        row_count+=1\n",
    "        if row_count>1:\n",
    "            break\n",
    "    #     image=np.reshape(image,(28,28))\n",
    "    #     labels.append(label)\n",
    "    #     images.append(image)\n",
    "    # labels=np.array(labels).astype('float')\n",
    "    # images=np.array(images).astype('float')\n",
    "\n",
    "print(labels)"
   ]
  },
  {
   "cell_type": "code",
   "execution_count": null,
   "id": "e10bc743-4529-495d-9b50-c0589db56b54",
   "metadata": {},
   "outputs": [],
   "source": []
  }
 ],
 "metadata": {
  "kernelspec": {
   "display_name": "tf",
   "language": "python",
   "name": "tf"
  },
  "language_info": {
   "codemirror_mode": {
    "name": "ipython",
    "version": 3
   },
   "file_extension": ".py",
   "mimetype": "text/x-python",
   "name": "python",
   "nbconvert_exporter": "python",
   "pygments_lexer": "ipython3",
   "version": "3.9.18"
  }
 },
 "nbformat": 4,
 "nbformat_minor": 5
}
