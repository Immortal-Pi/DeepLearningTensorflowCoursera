{
 "cells": [
  {
   "cell_type": "markdown",
   "id": "15c565f3",
   "metadata": {
    "id": "15c565f3"
   },
   "source": [
    "# Week 2: Tackle Overfitting with Data Augmentation\n",
    "\n",
    "Welcome to this assignment! As in the previous week, you will be using the famous `cats vs dogs` dataset to train a model that can classify images of dogs from images of cats. For this, you will create your own Convolutional Neural Network in Tensorflow and leverage Keras' image preprocessing utilities, more so this time around since Keras provides excellent support for augmenting image data.\n",
    "\n",
    "You will also need to create the helper functions to move the images around the filesystem as you did last week, so if you need to refresh your memory with the `os` module be sure to take a look a the [docs](https://docs.python.org/3/library/os.html).\n",
    "\n",
    "Let's get started!"
   ]
  },
  {
   "cell_type": "markdown",
   "id": "178b64a6",
   "metadata": {
    "id": "178b64a6"
   },
   "source": [
    "_**NOTE:** To prevent errors from the autograder, please avoid editing or deleting non-graded cells in this notebook . Please only put your solutions in between the `### START CODE HERE` and `### END CODE HERE` code comments, and refrain from adding any new cells._"
   ]
  },
  {
   "cell_type": "code",
   "execution_count": 1,
   "id": "88e50e24",
   "metadata": {
    "id": "88e50e24",
    "tags": [
     "graded"
    ]
   },
   "outputs": [],
   "source": [
    "# grader-required-cell\n",
    "\n",
    "import os\n",
    "import zipfile\n",
    "import random\n",
    "import shutil\n",
    "import tensorflow as tf\n",
    "from tensorflow.keras.preprocessing.image import ImageDataGenerator\n",
    "from shutil import copyfile\n",
    "import matplotlib.pyplot as plt"
   ]
  },
  {
   "cell_type": "markdown",
   "id": "baf75073",
   "metadata": {
    "id": "baf75073"
   },
   "source": [
    "Download the dataset from its original source by running the cell below.\n",
    "\n",
    "Note that the `zip` file that contains the images is unzipped under the `/tmp` directory."
   ]
  },
  {
   "cell_type": "code",
   "execution_count": 2,
   "id": "8c02acdc",
   "metadata": {
    "colab": {
     "base_uri": "https://localhost:8080/"
    },
    "id": "8c02acdc",
    "lines_to_next_cell": 2,
    "outputId": "a307d679-fd5f-4e6f-c48c-d6d8aaca8c75",
    "tags": []
   },
   "outputs": [
    {
     "name": "stderr",
     "output_type": "stream",
     "text": [
      "'wget' is not recognized as an internal or external command,\n",
      "operable program or batch file.\n"
     ]
    },
    {
     "ename": "FileNotFoundError",
     "evalue": "[Errno 2] No such file or directory: '/tmp/cats-and-dogs.zip'",
     "output_type": "error",
     "traceback": [
      "\u001b[1;31m---------------------------------------------------------------------------\u001b[0m",
      "\u001b[1;31mFileNotFoundError\u001b[0m                         Traceback (most recent call last)",
      "Cell \u001b[1;32mIn[2], line 9\u001b[0m\n\u001b[0;32m      6\u001b[0m get_ipython()\u001b[38;5;241m.\u001b[39msystem(\u001b[38;5;124m'\u001b[39m\u001b[38;5;124mwget --no-check-certificate      \u001b[39m\u001b[38;5;124m\"\u001b[39m\u001b[38;5;124mhttps://download.microsoft.com/download/3/E/1/3E1C3F21-ECDB-4869-8368-6DEBA77B919F/kagglecatsanddogs_5340.zip\u001b[39m\u001b[38;5;124m\"\u001b[39m\u001b[38;5;124m      -O \u001b[39m\u001b[38;5;124m\"\u001b[39m\u001b[38;5;124m/tmp/cats-and-dogs.zip\u001b[39m\u001b[38;5;124m\"\u001b[39m\u001b[38;5;124m'\u001b[39m)\n\u001b[0;32m      8\u001b[0m local_zip \u001b[38;5;241m=\u001b[39m \u001b[38;5;124m'\u001b[39m\u001b[38;5;124m/tmp/cats-and-dogs.zip\u001b[39m\u001b[38;5;124m'\u001b[39m\n\u001b[1;32m----> 9\u001b[0m zip_ref   \u001b[38;5;241m=\u001b[39m \u001b[43mzipfile\u001b[49m\u001b[38;5;241;43m.\u001b[39;49m\u001b[43mZipFile\u001b[49m\u001b[43m(\u001b[49m\u001b[43mlocal_zip\u001b[49m\u001b[43m,\u001b[49m\u001b[43m \u001b[49m\u001b[38;5;124;43m'\u001b[39;49m\u001b[38;5;124;43mr\u001b[39;49m\u001b[38;5;124;43m'\u001b[39;49m\u001b[43m)\u001b[49m\n\u001b[0;32m     10\u001b[0m zip_ref\u001b[38;5;241m.\u001b[39mextractall(\u001b[38;5;124m'\u001b[39m\u001b[38;5;124m/tmp\u001b[39m\u001b[38;5;124m'\u001b[39m)\n\u001b[0;32m     11\u001b[0m zip_ref\u001b[38;5;241m.\u001b[39mclose()\n",
      "File \u001b[1;32mE:\\anaconda3\\envs\\tf\\lib\\zipfile.py:1248\u001b[0m, in \u001b[0;36mZipFile.__init__\u001b[1;34m(self, file, mode, compression, allowZip64, compresslevel, strict_timestamps)\u001b[0m\n\u001b[0;32m   1246\u001b[0m \u001b[38;5;28;01mwhile\u001b[39;00m \u001b[38;5;28;01mTrue\u001b[39;00m:\n\u001b[0;32m   1247\u001b[0m     \u001b[38;5;28;01mtry\u001b[39;00m:\n\u001b[1;32m-> 1248\u001b[0m         \u001b[38;5;28mself\u001b[39m\u001b[38;5;241m.\u001b[39mfp \u001b[38;5;241m=\u001b[39m \u001b[43mio\u001b[49m\u001b[38;5;241;43m.\u001b[39;49m\u001b[43mopen\u001b[49m\u001b[43m(\u001b[49m\u001b[43mfile\u001b[49m\u001b[43m,\u001b[49m\u001b[43m \u001b[49m\u001b[43mfilemode\u001b[49m\u001b[43m)\u001b[49m\n\u001b[0;32m   1249\u001b[0m     \u001b[38;5;28;01mexcept\u001b[39;00m \u001b[38;5;167;01mOSError\u001b[39;00m:\n\u001b[0;32m   1250\u001b[0m         \u001b[38;5;28;01mif\u001b[39;00m filemode \u001b[38;5;129;01min\u001b[39;00m modeDict:\n",
      "\u001b[1;31mFileNotFoundError\u001b[0m: [Errno 2] No such file or directory: '/tmp/cats-and-dogs.zip'"
     ]
    }
   ],
   "source": [
    "# If the URL doesn't work, visit https://www.microsoft.com/en-us/download/confirmation.aspx?id=54765\n",
    "# And right click on the 'Download Manually' link to get a new URL to the dataset\n",
    "\n",
    "# Note: This is a very large dataset and will take some time to download\n",
    "\n",
    "!wget --no-check-certificate \\\n",
    "    \"https://download.microsoft.com/download/3/E/1/3E1C3F21-ECDB-4869-8368-6DEBA77B919F/kagglecatsanddogs_5340.zip\" \\\n",
    "    -O \"/tmp/cats-and-dogs.zip\"\n",
    "\n",
    "local_zip = '/tmp/cats-and-dogs.zip'\n",
    "zip_ref   = zipfile.ZipFile(local_zip, 'r')\n",
    "zip_ref.extractall('/tmp')\n",
    "zip_ref.close()"
   ]
  },
  {
   "cell_type": "markdown",
   "id": "0a83633c",
   "metadata": {
    "id": "0a83633c"
   },
   "source": [
    "Now the images are stored within the `/tmp/PetImages` directory. There is a subdirectory for each class, so one for dogs and one for cats."
   ]
  },
  {
   "cell_type": "code",
   "execution_count": 3,
   "id": "fd6e0556",
   "metadata": {
    "colab": {
     "base_uri": "https://localhost:8080/"
    },
    "id": "fd6e0556",
    "outputId": "48f83512-b577-4d8e-f270-3dd3acc0596a",
    "tags": [
     "graded"
    ]
   },
   "outputs": [
    {
     "name": "stderr",
     "output_type": "stream",
     "text": [
      "FIND: Invalid switch\n"
     ]
    },
    {
     "ename": "FileNotFoundError",
     "evalue": "[WinError 3] The system cannot find the path specified: 'datasets/cats_and_dogs_filtered/Dog'",
     "output_type": "error",
     "traceback": [
      "\u001b[1;31m---------------------------------------------------------------------------\u001b[0m",
      "\u001b[1;31mFileNotFoundError\u001b[0m                         Traceback (most recent call last)",
      "Cell \u001b[1;32mIn[3], line 12\u001b[0m\n\u001b[0;32m      9\u001b[0m get_ipython()\u001b[38;5;241m.\u001b[39msystem(\u001b[38;5;124m'\u001b[39m\u001b[38;5;124mfind /tmp/PetImages/ -type f ! -name \u001b[39m\u001b[38;5;124m\"\u001b[39m\u001b[38;5;124m*.jpg\u001b[39m\u001b[38;5;124m\"\u001b[39m\u001b[38;5;124m -exec rm \u001b[39m\u001b[38;5;132;01m{}\u001b[39;00m\u001b[38;5;124m +\u001b[39m\u001b[38;5;124m'\u001b[39m)\n\u001b[0;32m     11\u001b[0m \u001b[38;5;66;03m# os.listdir returns a list containing all files under the given path\u001b[39;00m\n\u001b[1;32m---> 12\u001b[0m \u001b[38;5;28mprint\u001b[39m(\u001b[38;5;124mf\u001b[39m\u001b[38;5;124m\"\u001b[39m\u001b[38;5;124mThere are \u001b[39m\u001b[38;5;132;01m{\u001b[39;00m\u001b[38;5;28mlen\u001b[39m(os\u001b[38;5;241m.\u001b[39mlistdir(source_path_dogs))\u001b[38;5;132;01m}\u001b[39;00m\u001b[38;5;124m images of dogs.\u001b[39m\u001b[38;5;124m\"\u001b[39m)\n\u001b[0;32m     13\u001b[0m \u001b[38;5;28mprint\u001b[39m(\u001b[38;5;124mf\u001b[39m\u001b[38;5;124m\"\u001b[39m\u001b[38;5;124mThere are \u001b[39m\u001b[38;5;132;01m{\u001b[39;00m\u001b[38;5;28mlen\u001b[39m(os\u001b[38;5;241m.\u001b[39mlistdir(source_path_cats))\u001b[38;5;132;01m}\u001b[39;00m\u001b[38;5;124m images of cats.\u001b[39m\u001b[38;5;124m\"\u001b[39m)\n",
      "\u001b[1;31mFileNotFoundError\u001b[0m: [WinError 3] The system cannot find the path specified: 'datasets/cats_and_dogs_filtered/Dog'"
     ]
    }
   ],
   "source": [
    "# grader-required-cell\n",
    "\n",
    "source_path = 'datasets/cats_and_dogs_filtered/'\n",
    "\n",
    "source_path_dogs = os.path.join(source_path, 'Dog')\n",
    "source_path_cats = os.path.join(source_path, 'Cat')\n",
    "\n",
    "# Deletes all non-image files (there are two .db files bundled into the dataset)\n",
    "!find /tmp/PetImages/ -type f ! -name \"*.jpg\" -exec rm {} +\n",
    "\n",
    "# os.listdir returns a list containing all files under the given path\n",
    "print(f\"There are {len(os.listdir(source_path_dogs))} images of dogs.\")\n",
    "print(f\"There are {len(os.listdir(source_path_cats))} images of cats.\")"
   ]
  },
  {
   "cell_type": "markdown",
   "id": "37eab080",
   "metadata": {
    "id": "37eab080"
   },
   "source": [
    "**Expected Output:**\n",
    "\n",
    "```\n",
    "There are 12500 images of dogs.\n",
    "There are 12500 images of cats.\n",
    "```"
   ]
  },
  {
   "cell_type": "markdown",
   "id": "84b9dd63",
   "metadata": {
    "id": "84b9dd63"
   },
   "source": [
    "You will need a directory for cats-v-dogs, and subdirectories for training\n",
    "and validation. These in turn will need subdirectories for 'cats' and 'dogs'. To accomplish this, complete the `create_train_val_dirs` below:"
   ]
  },
  {
   "cell_type": "code",
   "execution_count": 4,
   "id": "3804b5c3",
   "metadata": {
    "cellView": "code",
    "id": "3804b5c3",
    "tags": [
     "graded"
    ]
   },
   "outputs": [],
   "source": [
    "# grader-required-cell\n",
    "\n",
    "# Define root directory\n",
    "root_dir = 'datasets/cats_and_dogs_filtered/'\n",
    "\n",
    "# Empty directory to prevent FileExistsError is the function is run several times\n",
    "if os.path.exists(root_dir):\n",
    "  shutil.rmtree(root_dir)\n",
    "\n",
    "# GRADED FUNCTION: create_train_val_dirs\n",
    "def create_train_val_dirs(root_path):\n",
    "  \"\"\"\n",
    "  Creates directories for the train and test sets\n",
    "\n",
    "  Args:\n",
    "    root_path (string) - the base directory path to create subdirectories from\n",
    "\n",
    "  Returns:\n",
    "    None\n",
    "  \"\"\"\n",
    "\n",
    "  ### START CODE HERE\n",
    "\n",
    "  # HINT:\n",
    "  # Use os.makedirs to create your directories with intermediate subdirectories\n",
    "  # Don't hardcode the paths. Use os.path.join to append the new directories to the root_path parameter\n",
    "  # training_dir='training'\n",
    "  # validation_dir='validation'\n",
    "  training_path=os.path.join(root_dir,'training')\n",
    "  validation_path=os.path.join(root_dir,'validation')\n",
    "\n",
    "  os.makedirs(training_path)\n",
    "  os.makedirs(validation_path)\n",
    "  os.makedirs(os.path.join(training_path,'cats'))\n",
    "  os.makedirs(os.path.join(training_path,'dogs'))\n",
    "  os.makedirs(os.path.join(validation_path,'cats'))\n",
    "  os.makedirs(os.path.join(validation_path,'dogs'))\n",
    "  # os.makedirs(os.path.join(root_dir,'validation'))\n",
    "\n",
    "\n",
    "  ### END CODE HERE\n",
    "\n",
    "\n",
    "try:\n",
    "  create_train_val_dirs(root_path=root_dir)\n",
    "except FileExistsError:\n",
    "  print(\"You should not be seeing this since the upper directory is removed beforehand\")"
   ]
  },
  {
   "cell_type": "code",
   "execution_count": 5,
   "id": "f6e43750",
   "metadata": {
    "colab": {
     "base_uri": "https://localhost:8080/"
    },
    "id": "f6e43750",
    "outputId": "2278fc3c-df4d-4741-9a0b-50a90acb1118",
    "tags": [
     "graded"
    ]
   },
   "outputs": [
    {
     "name": "stdout",
     "output_type": "stream",
     "text": [
      "datasets/cats_and_dogs_filtered/train\n",
      "datasets/cats_and_dogs_filtered/validation\n",
      "datasets/cats_and_dogs_filtered/train\\cats\n",
      "datasets/cats_and_dogs_filtered/train\\dogs\n",
      "datasets/cats_and_dogs_filtered/validation\\cats\n",
      "datasets/cats_and_dogs_filtered/validation\\dogs\n"
     ]
    }
   ],
   "source": [
    "# grader-required-cell\n",
    "\n",
    "# Test your create_train_val_dirs function\n",
    "\n",
    "for rootdir, dirs, files in os.walk(root_dir):\n",
    "    for subdir in dirs:\n",
    "        print(os.path.join(rootdir, subdir))"
   ]
  },
  {
   "cell_type": "markdown",
   "id": "a576605f",
   "metadata": {
    "id": "a576605f"
   },
   "source": [
    "**Expected Output (directory order might vary):**\n",
    "\n",
    "``` txt\n",
    "/tmp/cats-v-dogs/training\n",
    "/tmp/cats-v-dogs/validation\n",
    "/tmp/cats-v-dogs/training/cats\n",
    "/tmp/cats-v-dogs/training/dogs\n",
    "/tmp/cats-v-dogs/validation/cats\n",
    "/tmp/cats-v-dogs/validation/dogs\n",
    "\n",
    "```"
   ]
  },
  {
   "cell_type": "markdown",
   "id": "f1bfdd9e",
   "metadata": {
    "id": "f1bfdd9e"
   },
   "source": [
    "Code the `split_data` function which takes in the following arguments:\n",
    "- SOURCE_DIR: directory containing the files\n",
    "\n",
    "- TRAINING_DIR: directory that a portion of the files will be copied to (will be used for training)\n",
    "\n",
    "- VALIDATION_DIR: directory that a portion of the files will be copied to (will be used for validation)\n",
    "\n",
    "- SPLIT_SIZE: determines the portion of images used for training.\n",
    "\n",
    "The files should be randomized, so that the training set is a random sample of the files, and the validation set is made up of the remaining files.\n",
    "\n",
    "For example, if `SOURCE_DIR` is `PetImages/Cat`, and `SPLIT_SIZE` is .9 then 90% of the images in `PetImages/Cat` will be copied to the `TRAINING_DIR` directory\n",
    "and 10% of the images will be copied to the `VALIDATION_DIR` directory.\n",
    "\n",
    "All images should be checked before the copy, so if they have a zero file length, they will be omitted from the copying process. If this is the case then your function should print out a message such as `\"filename is zero length, so ignoring.\"`. **You should perform this check before the split so that only non-zero images are considered when doing the actual split.**\n",
    "\n",
    "\n",
    "Hints:\n",
    "\n",
    "- `os.listdir(DIRECTORY)` returns a list with the contents of that directory.\n",
    "\n",
    "- `os.path.getsize(PATH)` returns the size of the file\n",
    "\n",
    "- `copyfile(source, destination)` copies a file from source to destination\n",
    "\n",
    "- `random.sample(list, len(list))` shuffles a list"
   ]
  },
  {
   "cell_type": "code",
   "execution_count": 6,
   "id": "f61c3d81",
   "metadata": {
    "cellView": "code",
    "id": "f61c3d81",
    "tags": [
     "graded"
    ]
   },
   "outputs": [],
   "source": [
    "# grader-required-cell\n",
    "\n",
    "# GRADED FUNCTION: split_data\n",
    "def split_data(SOURCE_DIR, TRAINING_DIR, VALIDATION_DIR, SPLIT_SIZE):\n",
    "  \"\"\"\n",
    "  Splits the data into train and test sets\n",
    "\n",
    "  Args:\n",
    "    SOURCE_DIR (string): directory path containing the images\n",
    "    TRAINING_DIR (string): directory path to be used for training\n",
    "    VALIDATION_DIR (string): directory path to be used for validation\n",
    "    SPLIT_SIZE (float): proportion of the dataset to be used for training\n",
    "\n",
    "  Returns:\n",
    "    None\n",
    "  \"\"\"\n",
    "  ### START CODE HERE\n",
    "  shuffeled_source=random.sample(os.listdir(SOURCE_DIR),len(os.listdir(SOURCE_DIR)))\n",
    "  training_number=int(len(shuffeled_source)*SPLIT_SIZE)\n",
    "\n",
    "  i=0\n",
    "  target=TRAINING_DIR\n",
    "\n",
    "  for item in shuffeled_source:\n",
    "    item_source=os.path.join(SOURCE_DIR,item)\n",
    "    if os.path.getsize(item_source)==0:\n",
    "      print(f'{item} is zero length, so ignoring.')\n",
    "    else:\n",
    "      copyfile(item_source, os.path.join(target,item))\n",
    "      i+=1\n",
    "    if i==training_number:\n",
    "      target=VALIDATION_DIR\n",
    "\n",
    "\n",
    "\n",
    "  ### END CODE HERE"
   ]
  },
  {
   "cell_type": "code",
   "execution_count": 17,
   "id": "9795fd91",
   "metadata": {
    "colab": {
     "base_uri": "https://localhost:8080/"
    },
    "id": "9795fd91",
    "outputId": "ff448f49-8d35-400a-af59-ad931d2f5df9",
    "tags": [
     "graded"
    ]
   },
   "outputs": [
    {
     "name": "stdout",
     "output_type": "stream",
     "text": [
      "666.jpg is zero length, so ignoring.\n",
      "11702.jpg is zero length, so ignoring.\n",
      "\n",
      "\n",
      "Original cat's directory has 12500 images\n",
      "Original dog's directory has 12500 images\n",
      "\n",
      "There are 11250 images of cats for training\n",
      "There are 11250 images of dogs for training\n",
      "There are 1249 images of cats for validation\n",
      "There are 1249 images of dogs for validation\n"
     ]
    }
   ],
   "source": [
    "# grader-required-cell\n",
    "\n",
    "# Test your split_data function\n",
    "\n",
    "# Define paths\n",
    "CAT_SOURCE_DIR = \"datasets/PetImages/Cat/\"\n",
    "DOG_SOURCE_DIR = \"datasets/PetImages/Dog/\"\n",
    "\n",
    "TRAINING_DIR = \"datasets/PetImages/training/\"\n",
    "VALIDATION_DIR = \"datasets/PetImages/validation/\"\n",
    "\n",
    "TRAINING_CATS_DIR = os.path.join(TRAINING_DIR, \"cats/\")\n",
    "VALIDATION_CATS_DIR = os.path.join(VALIDATION_DIR, \"cats/\")\n",
    "\n",
    "TRAINING_DOGS_DIR = os.path.join(TRAINING_DIR, \"dogs/\")\n",
    "VALIDATION_DOGS_DIR = os.path.join(VALIDATION_DIR, \"dogs/\")\n",
    "\n",
    "# Empty directories in case you run this cell multiple times\n",
    "if len(os.listdir(TRAINING_CATS_DIR)) > 0:\n",
    "  for file in os.scandir(TRAINING_CATS_DIR):\n",
    "    os.remove(file.path)\n",
    "if len(os.listdir(TRAINING_DOGS_DIR)) > 0:\n",
    "  for file in os.scandir(TRAINING_DOGS_DIR):\n",
    "    os.remove(file.path)\n",
    "if len(os.listdir(VALIDATION_CATS_DIR)) > 0:\n",
    "  for file in os.scandir(VALIDATION_CATS_DIR):\n",
    "    os.remove(file.path)\n",
    "if len(os.listdir(VALIDATION_DOGS_DIR)) > 0:\n",
    "  for file in os.scandir(VALIDATION_DOGS_DIR):\n",
    "    os.remove(file.path)\n",
    "\n",
    "# Define proportion of images used for training\n",
    "split_size = .9\n",
    "\n",
    "# Run the function\n",
    "# NOTE: Messages about zero length images should be printed out\n",
    "split_data(CAT_SOURCE_DIR, TRAINING_CATS_DIR, VALIDATION_CATS_DIR, split_size)\n",
    "split_data(DOG_SOURCE_DIR, TRAINING_DOGS_DIR, VALIDATION_DOGS_DIR, split_size)\n",
    "\n",
    "# Your function should perform copies rather than moving images so original directories should contain unchanged images\n",
    "print(f\"\\n\\nOriginal cat's directory has {len(os.listdir(CAT_SOURCE_DIR))} images\")\n",
    "print(f\"Original dog's directory has {len(os.listdir(DOG_SOURCE_DIR))} images\\n\")\n",
    "\n",
    "# Training and validation splits. Check that the number of images matches the expected output.\n",
    "print(f\"There are {len(os.listdir(TRAINING_CATS_DIR))} images of cats for training\")\n",
    "print(f\"There are {len(os.listdir(TRAINING_DOGS_DIR))} images of dogs for training\")\n",
    "print(f\"There are {len(os.listdir(VALIDATION_CATS_DIR))} images of cats for validation\")\n",
    "print(f\"There are {len(os.listdir(VALIDATION_DOGS_DIR))} images of dogs for validation\")"
   ]
  },
  {
   "cell_type": "markdown",
   "id": "e9585587",
   "metadata": {
    "id": "e9585587"
   },
   "source": [
    "**Expected Output:**\n",
    "\n",
    "```\n",
    "666.jpg is zero length, so ignoring.\n",
    "11702.jpg is zero length, so ignoring.\n",
    "\n",
    "\n",
    "Original cat's directory has 12500 images\n",
    "Original dog's directory has 12500 images\n",
    "\n",
    "There are 11249 images of cats for training\n",
    "There are 11249 images of dogs for training\n",
    "There are 1250 images of cats for validation\n",
    "There are 1250 images of dogs for validation\n",
    "```"
   ]
  },
  {
   "cell_type": "markdown",
   "id": "01ce64d3",
   "metadata": {
    "id": "01ce64d3"
   },
   "source": [
    "Now that you have successfully organized the data in a way that can be easily fed to Keras' `ImageDataGenerator`, it is time for you to code the generators that will yield batches of images, both for training and validation. For this, complete the `train_val_generators` function below.\n",
    "\n",
    "Something important to note is that the images in this dataset come in a variety of resolutions. Luckily, the `flow_from_directory` method allows you to standarize this by defining a tuple called `target_size` that will be used to convert each image to this target resolution. **For this exercise use a `target_size` of (150, 150)**."
   ]
  },
  {
   "cell_type": "code",
   "execution_count": 18,
   "id": "3a071cf2",
   "metadata": {
    "cellView": "code",
    "id": "3a071cf2",
    "tags": [
     "graded"
    ]
   },
   "outputs": [],
   "source": [
    "# grader-required-cell\n",
    "\n",
    "# GRADED FUNCTION: train_val_generators\n",
    "def train_val_generators(TRAINING_DIR, VALIDATION_DIR):\n",
    "  \"\"\"\n",
    "  Creates the training and validation data generators\n",
    "\n",
    "  Args:\n",
    "    TRAINING_DIR (string): directory path containing the training images\n",
    "    VALIDATION_DIR (string): directory path containing the testing/validation images\n",
    "\n",
    "  Returns:\n",
    "    train_generator, validation_generator - tuple containing the generators\n",
    "  \"\"\"\n",
    "  ### START CODE HERE\n",
    "\n",
    "  # Instantiate the ImageDataGenerator class (don't forget to set the arguments to augment the images)\n",
    "  train_datagen = ImageDataGenerator(rescale=1/255,\n",
    "                                     rotation_range=40,\n",
    "                                     width_shift_range=0.2,\n",
    "                                     height_shift_range=0.2,\n",
    "                                     shear_range=0.2,\n",
    "                                     zoom_range=0.2,\n",
    "                                     horizontal_flip=True,\n",
    "                                     fill_mode='nearest')\n",
    "\n",
    "  # Pass in the appropriate arguments to the flow_from_directory method\n",
    "  train_generator = train_datagen.flow_from_directory(directory=TRAINING_DIR,\n",
    "                                                      batch_size=20,\n",
    "                                                      class_mode='binary',\n",
    "                                                      target_size=(150, 150))\n",
    "\n",
    "  # Instantiate the ImageDataGenerator class (don't forget to set the rescale argument)\n",
    "  validation_datagen = ImageDataGenerator(rescale=1/255)\n",
    "\n",
    "  # Pass in the appropriate arguments to the flow_from_directory method\n",
    "  validation_generator = validation_datagen.flow_from_directory(directory=VALIDATION_DIR,\n",
    "                                                                batch_size=20,\n",
    "                                                                class_mode='binary',\n",
    "                                                                target_size=(150, 150))\n",
    "  ### END CODE HERE\n",
    "  return train_generator, validation_generator"
   ]
  },
  {
   "cell_type": "code",
   "execution_count": 19,
   "id": "bdd46fd1",
   "metadata": {
    "colab": {
     "base_uri": "https://localhost:8080/"
    },
    "id": "bdd46fd1",
    "outputId": "ba35cff3-6ed6-4f77-fb5f-48e2a5724350",
    "tags": [
     "graded"
    ]
   },
   "outputs": [
    {
     "name": "stdout",
     "output_type": "stream",
     "text": [
      "Found 22500 images belonging to 2 classes.\n",
      "Found 2498 images belonging to 2 classes.\n"
     ]
    }
   ],
   "source": [
    "# grader-required-cell\n",
    "\n",
    "# Test your generators\n",
    "train_generator, validation_generator = train_val_generators(TRAINING_DIR, VALIDATION_DIR)"
   ]
  },
  {
   "cell_type": "markdown",
   "id": "ec9e591e",
   "metadata": {
    "id": "ec9e591e"
   },
   "source": [
    "**Expected Output:**\n",
    "\n",
    "```\n",
    "Found 22498 images belonging to 2 classes.\n",
    "Found 2500 images belonging to 2 classes.\n",
    "```\n"
   ]
  },
  {
   "cell_type": "markdown",
   "id": "ff53f4ff",
   "metadata": {
    "id": "ff53f4ff"
   },
   "source": [
    "One last step before training is to define the architecture of the model that will be trained.\n",
    "\n",
    "Complete the `create_model` function below which should return a Keras' `Sequential` model.\n",
    "\n",
    "Aside from defining the architecture of the model, you should also compile it so make sure to use a `loss` function that is compatible with the `class_mode` you defined in the previous exercise, which should also be compatible with the output of your network. You can tell if they aren't compatible if you get an error during training.\n",
    "\n",
    "**Note that you should use at least 3 convolution layers to achieve the desired performance.**"
   ]
  },
  {
   "cell_type": "code",
   "execution_count": 29,
   "id": "6285db36",
   "metadata": {
    "cellView": "code",
    "id": "6285db36",
    "lines_to_next_cell": 2,
    "tags": [
     "graded"
    ]
   },
   "outputs": [],
   "source": [
    "# grader-required-cell\n",
    "\n",
    "# GRADED FUNCTION: create_model\n",
    "def create_model():\n",
    "  # DEFINE A KERAS MODEL TO CLASSIFY CATS V DOGS\n",
    "  # USE AT LEAST 3 CONVOLUTION LAYERS\n",
    "\n",
    "  ### START CODE HERE\n",
    "\n",
    "  model = tf.keras.models.Sequential([\n",
    "    tf.keras.layers.Conv2D(16,(3,3),activation='relu',input_shape=(150,150,3)),\n",
    "    tf.keras.layers.MaxPool2D(2,2),\n",
    "    tf.keras.layers.Conv2D(32,(3,3),activation='relu'),\n",
    "    tf.keras.layers.MaxPool2D(2,2),\n",
    "    tf.keras.layers.Conv2D(64,(3,3),activation='relu'),\n",
    "    tf.keras.layers.MaxPool2D(2,2),\n",
    "    tf.keras.layers.Conv2D(64,(3,3),activation='relu'),\n",
    "    tf.keras.layers.MaxPool2D(2,2),\n",
    "    tf.keras.layers.Conv2D(64,(3,3),activation='relu'),\n",
    "    tf.keras.layers.MaxPool2D(2,2),\n",
    "    tf.keras.layers.Flatten(),\n",
    "    tf.keras.layers.Dense(512,activation='relu'),\n",
    "    tf.keras.layers.Dense(1, activation='sigmoid')\n",
    "  ])\n",
    "\n",
    "\n",
    "  model.compile(optimizer=tf.optimizers.RMSprop(learning_rate=1e-4),\n",
    "                loss='binary_crossentropy',\n",
    "                metrics=['accuracy'])\n",
    "\n",
    "  ### END CODE HERE\n",
    "\n",
    "  return model"
   ]
  },
  {
   "cell_type": "markdown",
   "id": "e1e86846",
   "metadata": {
    "id": "e1e86846"
   },
   "source": [
    "Now it is time to train your model!\n",
    "\n",
    "Note: You can ignore the `UserWarning: Possibly corrupt EXIF data.` warnings."
   ]
  },
  {
   "cell_type": "code",
   "execution_count": 33,
   "id": "b1bf121f",
   "metadata": {
    "colab": {
     "base_uri": "https://localhost:8080/"
    },
    "id": "b1bf121f",
    "outputId": "f680f3e3-2a83-4b62-852d-2fa868d330a0",
    "tags": []
   },
   "outputs": [
    {
     "name": "stdout",
     "output_type": "stream",
     "text": [
      "Epoch 1/19\n",
      "1125/1125 [==============================] - 121s 107ms/step - loss: 0.6708 - accuracy: 0.5822 - val_loss: 0.6840 - val_accuracy: 0.5749\n",
      "Epoch 2/19\n",
      "1125/1125 [==============================] - 118s 105ms/step - loss: 0.6380 - accuracy: 0.6385 - val_loss: 0.6010 - val_accuracy: 0.6745\n",
      "Epoch 3/19\n",
      "1125/1125 [==============================] - 117s 104ms/step - loss: 0.6067 - accuracy: 0.6704 - val_loss: 0.5505 - val_accuracy: 0.7194\n",
      "Epoch 4/19\n",
      "1125/1125 [==============================] - 117s 104ms/step - loss: 0.5778 - accuracy: 0.6983 - val_loss: 0.5322 - val_accuracy: 0.7394\n",
      "Epoch 5/19\n",
      "1125/1125 [==============================] - 117s 104ms/step - loss: 0.5571 - accuracy: 0.7162 - val_loss: 0.4966 - val_accuracy: 0.7642\n",
      "Epoch 6/19\n",
      "1125/1125 [==============================] - 117s 104ms/step - loss: 0.5436 - accuracy: 0.7248 - val_loss: 0.4789 - val_accuracy: 0.7802\n",
      "Epoch 7/19\n",
      "1125/1125 [==============================] - 117s 104ms/step - loss: 0.5323 - accuracy: 0.7352 - val_loss: 0.4861 - val_accuracy: 0.7702\n",
      "Epoch 8/19\n",
      "1125/1125 [==============================] - 116s 103ms/step - loss: 0.5156 - accuracy: 0.7450 - val_loss: 0.6427 - val_accuracy: 0.7062\n",
      "Epoch 9/19\n",
      "1125/1125 [==============================] - 118s 104ms/step - loss: 0.5050 - accuracy: 0.7556 - val_loss: 0.4448 - val_accuracy: 0.7906\n",
      "Epoch 10/19\n",
      "1125/1125 [==============================] - 118s 105ms/step - loss: 0.4899 - accuracy: 0.7635 - val_loss: 0.4229 - val_accuracy: 0.8114\n",
      "Epoch 11/19\n",
      "1125/1125 [==============================] - 117s 104ms/step - loss: 0.4748 - accuracy: 0.7734 - val_loss: 0.4063 - val_accuracy: 0.8122\n",
      "Epoch 12/19\n",
      "1125/1125 [==============================] - 117s 104ms/step - loss: 0.4692 - accuracy: 0.7768 - val_loss: 0.3940 - val_accuracy: 0.8247\n",
      "Epoch 13/19\n",
      "1125/1125 [==============================] - 117s 104ms/step - loss: 0.4573 - accuracy: 0.7825 - val_loss: 0.3881 - val_accuracy: 0.8231\n",
      "Epoch 14/19\n",
      "1125/1125 [==============================] - 118s 105ms/step - loss: 0.4447 - accuracy: 0.7920 - val_loss: 0.3867 - val_accuracy: 0.8263\n",
      "Epoch 15/19\n",
      "1125/1125 [==============================] - 119s 105ms/step - loss: 0.4409 - accuracy: 0.7938 - val_loss: 0.3794 - val_accuracy: 0.8251\n",
      "Epoch 16/19\n",
      "1125/1125 [==============================] - 118s 105ms/step - loss: 0.4285 - accuracy: 0.8024 - val_loss: 0.4027 - val_accuracy: 0.8046\n",
      "Epoch 17/19\n",
      "1125/1125 [==============================] - 117s 104ms/step - loss: 0.4239 - accuracy: 0.8039 - val_loss: 0.3568 - val_accuracy: 0.8347\n",
      "Epoch 18/19\n",
      "1125/1125 [==============================] - 118s 105ms/step - loss: 0.4140 - accuracy: 0.8076 - val_loss: 0.3323 - val_accuracy: 0.8567\n",
      "Epoch 19/19\n",
      "1125/1125 [==============================] - 117s 104ms/step - loss: 0.4081 - accuracy: 0.8132 - val_loss: 0.3342 - val_accuracy: 0.8507\n"
     ]
    }
   ],
   "source": [
    "# Get the untrained model\n",
    "model = create_model()\n",
    "\n",
    "# Train the model\n",
    "# Note that this may take some time.\n",
    "history = model.fit(train_generator,\n",
    "                    epochs=19,\n",
    "                    verbose=1,\n",
    "                    validation_data=validation_generator)"
   ]
  },
  {
   "cell_type": "markdown",
   "id": "d533ecc6",
   "metadata": {
    "id": "d533ecc6"
   },
   "source": [
    "Once training has finished, you can run the following cell to check the training and validation accuracy achieved at the end of each epoch.\n",
    "\n",
    "**To pass this assignment, your model should achieve a training and validation accuracy of at least 80% and the final testing accuracy should be either higher than the training one or have a 5% difference at maximum**. If your model didn't achieve these thresholds, try training again with a different model architecture, remember to use at least 3 convolutional layers or try tweaking the image augmentation process.\n",
    "\n",
    "You might wonder why the training threshold to pass this assignment is significantly lower compared to last week's assignment. Image augmentation does help with overfitting but usually this comes at the expense of requiring more training time. To keep the training time reasonable, the same number of epochs as in the previous assignment are kept.\n",
    "\n",
    "However, as an optional exercise you are encouraged to try training for more epochs and to achieve really good training and validation accuracies."
   ]
  },
  {
   "cell_type": "code",
   "execution_count": 34,
   "id": "54adf1a8",
   "metadata": {
    "id": "54adf1a8",
    "tags": []
   },
   "outputs": [
    {
     "name": "stderr",
     "output_type": "stream",
     "text": [
      "No artists with labels found to put in legend.  Note that artists whose label start with an underscore are ignored when legend() is called with no argument.\n"
     ]
    },
    {
     "data": {
      "image/png": "[encoded data removed]",
      "text/plain": [
       "<Figure size 640x480 with 1 Axes>"
      ]
     },
     "metadata": {},
     "output_type": "display_data"
    },
    {
     "name": "stderr",
     "output_type": "stream",
     "text": [
      "No artists with labels found to put in legend.  Note that artists whose label start with an underscore are ignored when legend() is called with no argument.\n"
     ]
    },
    {
     "name": "stdout",
     "output_type": "stream",
     "text": [
      "\n"
     ]
    },
    {
     "data": {
      "image/png": "[encoded data removed]",
      "text/plain": [
       "<Figure size 640x480 with 1 Axes>"
      ]
     },
     "metadata": {},
     "output_type": "display_data"
    }
   ],
   "source": [
    "#-----------------------------------------------------------\n",
    "# Retrieve a list of list results on training and test data\n",
    "# sets for each training epoch\n",
    "#-----------------------------------------------------------\n",
    "acc=history.history['accuracy']\n",
    "val_acc=history.history['val_accuracy']\n",
    "loss=history.history['loss']\n",
    "val_loss=history.history['val_loss']\n",
    "\n",
    "epochs=range(len(acc)) # Get number of epochs\n",
    "\n",
    "#------------------------------------------------\n",
    "# Plot training and validation accuracy per epoch\n",
    "#------------------------------------------------\n",
    "plt.plot(epochs, acc, 'r', \"Training Accuracy\")\n",
    "plt.plot(epochs, val_acc, 'b', \"Validation Accuracy\")\n",
    "plt.title('Training and validation accuracy')\n",
    "plt.legend()\n",
    "plt.show()\n",
    "print(\"\")\n",
    "\n",
    "#------------------------------------------------\n",
    "# Plot training and validation loss per epoch\n",
    "#------------------------------------------------\n",
    "plt.plot(epochs, loss, 'r', \"Training Loss\")\n",
    "plt.plot(epochs, val_loss, 'b', \"Validation Loss\")\n",
    "plt.title('Training and validation accuracy')\n",
    "plt.legend()\n",
    "plt.show()"
   ]
  },
  {
   "cell_type": "markdown",
   "id": "b660e859",
   "metadata": {
    "id": "b660e859"
   },
   "source": [
    "You will probably encounter that the model is overfitting, which means that it is doing a great job at classifying the images in the training set but struggles with new data. This is perfectly fine and you will learn how to mitigate this issue in the upcomming week.\n",
    "\n",
    "Before closing the assignment, be sure to also download the `history.pkl` file which contains the information of the training history of your model. You can download this file by running the cell below:"
   ]
  },
  {
   "cell_type": "code",
   "execution_count": 35,
   "id": "da0ea301",
   "metadata": {
    "id": "da0ea301",
    "tags": []
   },
   "outputs": [],
   "source": [
    "def download_history():\n",
    "  import pickle\n",
    "  # from google.colab import files\n",
    "\n",
    "  with open('history_augmented.pkl', 'wb') as f:\n",
    "    pickle.dump(history.history, f)\n",
    "\n",
    "  # files.download('history_augmented.pkl')\n",
    "\n",
    "download_history()"
   ]
  },
  {
   "cell_type": "markdown",
   "id": "b34170bb",
   "metadata": {
    "id": "b34170bb"
   },
   "source": [
    "## Download your notebook for grading\n",
    "\n",
    "Along with the `history.pkl` file, you will also need to submit your solution notebook for grading. The following code cells will check if this notebook's grader metadata (i.e. hidden data in the notebook needed for grading) is not modified by your workspace. This will ensure that the autograder can evaluate your code properly. Depending on its output, you will either:\n",
    "\n",
    "* *if the metadata is intact*: Download the current notebook. Click on the File tab on the upper left corner of the screen then click on `Download -> Download .ipynb.` You can name it anything you want as long as it is a valid `.ipynb` (jupyter notebook) file.\n",
    "<br>\n",
    "\n",
    "* *if the metadata is missing*: A new notebook with your solutions will be created on this Colab workspace. It should be downloaded automatically and you can submit that to the grader."
   ]
  },
  {
   "cell_type": "code",
   "execution_count": 25,
   "id": "8ce9f625",
   "metadata": {
    "id": "8ce9f625"
   },
   "outputs": [
    {
     "name": "stderr",
     "output_type": "stream",
     "text": [
      "'wget' is not recognized as an internal or external command,\n",
      "operable program or batch file.\n"
     ]
    }
   ],
   "source": [
    "# Download metadata checker\n",
    "!wget -nc https://storage.googleapis.com/tensorflow-1-public/colab_metadata_checker.py"
   ]
  },
  {
   "cell_type": "code",
   "execution_count": null,
   "id": "f43740a3",
   "metadata": {
    "id": "f43740a3"
   },
   "outputs": [],
   "source": [
    "import colab_metadata_checker\n",
    "\n",
    "# Please see the output of this cell to see which file you need to submit to the grader\n",
    "colab_metadata_checker.run('C2W2_Assignment_fixed.ipynb')"
   ]
  },
  {
   "cell_type": "markdown",
   "id": "e3e698c0",
   "metadata": {
    "id": "e3e698c0"
   },
   "source": [
    "**Please disregard the following note if the notebook metadata is detected**\n",
    "\n",
    "_Note: Just in case the download fails for the second point above, you can also do these steps:_\n",
    "* _Click the Folder icon on the left side of this screen to open the File Manager._\n",
    "* _Click the Folder Refresh icon in the File Manager to see the latest files in the workspace. You should see a file ending with a `_fixed.ipynb`._\n",
    "* _Right-click on that file to save locally and submit it to the grader._\n"
   ]
  },
  {
   "cell_type": "markdown",
   "id": "b32d7250",
   "metadata": {
    "id": "b32d7250"
   },
   "source": [
    "**Congratulations on finishing this week's assignment!**\n",
    "\n",
    "You have successfully implemented a convolutional neural network that classifies images of cats and dogs, along with the helper functions needed to pre-process the images!\n",
    "\n",
    "**Keep it up!**"
   ]
  }
 ],
 "metadata": {
  "accelerator": "GPU",
  "colab": {
   "provenance": []
  },
  "kernelspec": {
   "display_name": "Python 3 (ipykernel)",
   "language": "python",
   "name": "python3"
  },
  "language_info": {
   "codemirror_mode": {
    "name": "ipython",
    "version": 3
   },
   "file_extension": ".py",
   "mimetype": "text/x-python",
   "name": "python",
   "nbconvert_exporter": "python",
   "pygments_lexer": "ipython3",
   "version": "3.9.18"
  }
 },
 "nbformat": 4,
 "nbformat_minor": 5
}
